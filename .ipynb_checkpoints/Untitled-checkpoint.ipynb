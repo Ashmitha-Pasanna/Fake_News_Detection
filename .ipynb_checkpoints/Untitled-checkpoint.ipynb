{
 "cells": [
  {
   "cell_type": "code",
   "execution_count": 1,
   "id": "2da9a84c",
   "metadata": {},
   "outputs": [],
   "source": [
    "import pandas as pd\n",
    "import numpy as np\n",
    "import itertools\n",
    "import seaborn as sns\n",
    "import matplotlib.pyplot as plt\n",
    "import os\n"
   ]
  },
  {
   "cell_type": "code",
   "execution_count": 2,
   "id": "e1637d63",
   "metadata": {},
   "outputs": [],
   "source": [
    "df = pd.read_csv(\"fake.csv\")\n"
   ]
  },
  {
   "cell_type": "code",
   "execution_count": null,
   "id": "6d7061fa",
   "metadata": {},
   "outputs": [],
   "source": []
  },
  {
   "cell_type": "code",
   "execution_count": 3,
   "id": "a9bf9215",
   "metadata": {},
   "outputs": [
    {
     "data": {
      "text/html": [
       "<div>\n",
       "<style scoped>\n",
       "    .dataframe tbody tr th:only-of-type {\n",
       "        vertical-align: middle;\n",
       "    }\n",
       "\n",
       "    .dataframe tbody tr th {\n",
       "        vertical-align: top;\n",
       "    }\n",
       "\n",
       "    .dataframe thead th {\n",
       "        text-align: right;\n",
       "    }\n",
       "</style>\n",
       "<table border=\"1\" class=\"dataframe\">\n",
       "  <thead>\n",
       "    <tr style=\"text-align: right;\">\n",
       "      <th></th>\n",
       "      <th>title</th>\n",
       "      <th>text</th>\n",
       "      <th>sources</th>\n",
       "      <th>label</th>\n",
       "    </tr>\n",
       "  </thead>\n",
       "  <tbody>\n",
       "    <tr>\n",
       "      <th>0</th>\n",
       "      <td>Bungalow with private island up for sale for ?...</td>\n",
       "      <td>A bungalow with a private island, located off ...</td>\n",
       "      <td>Bloomberg</td>\n",
       "      <td>FAKE</td>\n",
       "    </tr>\n",
       "    <tr>\n",
       "      <th>1</th>\n",
       "      <td>Americans react to Bollywood song &amp;# ;Pinga&amp;# ;</td>\n",
       "      <td>A video by YouTube channel &amp;# ;Fomo Daily&amp;# ; ...</td>\n",
       "      <td>YouTube</td>\n",
       "      <td>FAKE</td>\n",
       "    </tr>\n",
       "    <tr>\n",
       "      <th>2</th>\n",
       "      <td>World Toilet Day is celebrated on November 19</td>\n",
       "      <td>The United Nations has designated November 19 ...</td>\n",
       "      <td>United Nations</td>\n",
       "      <td>FAKE</td>\n",
       "    </tr>\n",
       "    <tr>\n",
       "      <th>3</th>\n",
       "      <td>Over 1.57 lakh people affected by Assam floods</td>\n",
       "      <td>Over 1.57 lakh people reportedly have been aff...</td>\n",
       "      <td>Northeast Today</td>\n",
       "      <td>FAKE</td>\n",
       "    </tr>\n",
       "    <tr>\n",
       "      <th>4</th>\n",
       "      <td>Varun Gandhi unhurt after stage collapses</td>\n",
       "      <td>BJP MP Varun Gandhi on Sunday escaped unhurt a...</td>\n",
       "      <td>India Today</td>\n",
       "      <td>FAKE</td>\n",
       "    </tr>\n",
       "  </tbody>\n",
       "</table>\n",
       "</div>"
      ],
      "text/plain": [
       "                                               title  \\\n",
       "0  Bungalow with private island up for sale for ?...   \n",
       "1    Americans react to Bollywood song &# ;Pinga&# ;   \n",
       "2      World Toilet Day is celebrated on November 19   \n",
       "3     Over 1.57 lakh people affected by Assam floods   \n",
       "4          Varun Gandhi unhurt after stage collapses   \n",
       "\n",
       "                                                text          sources label  \n",
       "0  A bungalow with a private island, located off ...        Bloomberg  FAKE  \n",
       "1  A video by YouTube channel &# ;Fomo Daily&# ; ...          YouTube  FAKE  \n",
       "2  The United Nations has designated November 19 ...   United Nations  FAKE  \n",
       "3  Over 1.57 lakh people reportedly have been aff...  Northeast Today  FAKE  \n",
       "4  BJP MP Varun Gandhi on Sunday escaped unhurt a...      India Today  FAKE  "
      ]
     },
     "execution_count": 3,
     "metadata": {},
     "output_type": "execute_result"
    }
   ],
   "source": [
    "df.head()"
   ]
  },
  {
   "cell_type": "code",
   "execution_count": 4,
   "id": "a6fe24dd",
   "metadata": {},
   "outputs": [
    {
     "data": {
      "text/plain": [
       "(56392, 4)"
      ]
     },
     "execution_count": 4,
     "metadata": {},
     "output_type": "execute_result"
    }
   ],
   "source": [
    "df.shape"
   ]
  },
  {
   "cell_type": "code",
   "execution_count": 5,
   "id": "fd3ab5e1",
   "metadata": {},
   "outputs": [
    {
     "data": {
      "text/plain": [
       "title      0\n",
       "text       0\n",
       "sources    0\n",
       "label      0\n",
       "dtype: int64"
      ]
     },
     "execution_count": 5,
     "metadata": {},
     "output_type": "execute_result"
    }
   ],
   "source": [
    "df.isnull().sum()"
   ]
  },
  {
   "cell_type": "code",
   "execution_count": 6,
   "id": "d56d448a",
   "metadata": {},
   "outputs": [],
   "source": [
    "labels = df.label"
   ]
  },
  {
   "cell_type": "code",
   "execution_count": 7,
   "id": "3fe9cccf",
   "metadata": {},
   "outputs": [
    {
     "data": {
      "text/plain": [
       "0    FAKE\n",
       "1    FAKE\n",
       "2    FAKE\n",
       "3    FAKE\n",
       "4    FAKE\n",
       "Name: label, dtype: object"
      ]
     },
     "execution_count": 7,
     "metadata": {},
     "output_type": "execute_result"
    }
   ],
   "source": [
    "labels.head()"
   ]
  },
  {
   "cell_type": "code",
   "execution_count": 8,
   "id": "e4038b48",
   "metadata": {},
   "outputs": [
    {
     "data": {
      "image/png": "[encoded data removed]",
      "text/plain": [
       "<Figure size 432x288 with 1 Axes>"
      ]
     },
     "metadata": {},
     "output_type": "display_data"
    }
   ],
   "source": [
    "df.groupby('label').size().plot(kind='pie', autopct='%.2f',label='Fake vs Real')\n",
    "plt.show()"
   ]
  },
  {
   "cell_type": "code",
   "execution_count": 9,
   "id": "25eb8cd5",
   "metadata": {},
   "outputs": [
    {
     "data": {
      "text/html": [
       "<div>\n",
       "<style scoped>\n",
       "    .dataframe tbody tr th:only-of-type {\n",
       "        vertical-align: middle;\n",
       "    }\n",
       "\n",
       "    .dataframe tbody tr th {\n",
       "        vertical-align: top;\n",
       "    }\n",
       "\n",
       "    .dataframe thead th {\n",
       "        text-align: right;\n",
       "    }\n",
       "</style>\n",
       "<table border=\"1\" class=\"dataframe\">\n",
       "  <thead>\n",
       "    <tr style=\"text-align: right;\">\n",
       "      <th></th>\n",
       "      <th>title</th>\n",
       "      <th>text</th>\n",
       "      <th>sources</th>\n",
       "      <th>label</th>\n",
       "      <th>title_length</th>\n",
       "      <th>text_length</th>\n",
       "    </tr>\n",
       "  </thead>\n",
       "  <tbody>\n",
       "    <tr>\n",
       "      <th>0</th>\n",
       "      <td>Bungalow with private island up for sale for ?...</td>\n",
       "      <td>A bungalow with a private island, located off ...</td>\n",
       "      <td>Bloomberg</td>\n",
       "      <td>FAKE</td>\n",
       "      <td>54</td>\n",
       "      <td>334</td>\n",
       "    </tr>\n",
       "    <tr>\n",
       "      <th>1</th>\n",
       "      <td>Americans react to Bollywood song &amp;# ;Pinga&amp;# ;</td>\n",
       "      <td>A video by YouTube channel &amp;# ;Fomo Daily&amp;# ; ...</td>\n",
       "      <td>YouTube</td>\n",
       "      <td>FAKE</td>\n",
       "      <td>47</td>\n",
       "      <td>418</td>\n",
       "    </tr>\n",
       "    <tr>\n",
       "      <th>2</th>\n",
       "      <td>World Toilet Day is celebrated on November 19</td>\n",
       "      <td>The United Nations has designated November 19 ...</td>\n",
       "      <td>United Nations</td>\n",
       "      <td>FAKE</td>\n",
       "      <td>45</td>\n",
       "      <td>374</td>\n",
       "    </tr>\n",
       "    <tr>\n",
       "      <th>3</th>\n",
       "      <td>Over 1.57 lakh people affected by Assam floods</td>\n",
       "      <td>Over 1.57 lakh people reportedly have been aff...</td>\n",
       "      <td>Northeast Today</td>\n",
       "      <td>FAKE</td>\n",
       "      <td>46</td>\n",
       "      <td>384</td>\n",
       "    </tr>\n",
       "    <tr>\n",
       "      <th>4</th>\n",
       "      <td>Varun Gandhi unhurt after stage collapses</td>\n",
       "      <td>BJP MP Varun Gandhi on Sunday escaped unhurt a...</td>\n",
       "      <td>India Today</td>\n",
       "      <td>FAKE</td>\n",
       "      <td>41</td>\n",
       "      <td>368</td>\n",
       "    </tr>\n",
       "  </tbody>\n",
       "</table>\n",
       "</div>"
      ],
      "text/plain": [
       "                                               title  \\\n",
       "0  Bungalow with private island up for sale for ?...   \n",
       "1    Americans react to Bollywood song &# ;Pinga&# ;   \n",
       "2      World Toilet Day is celebrated on November 19   \n",
       "3     Over 1.57 lakh people affected by Assam floods   \n",
       "4          Varun Gandhi unhurt after stage collapses   \n",
       "\n",
       "                                                text          sources label  \\\n",
       "0  A bungalow with a private island, located off ...        Bloomberg  FAKE   \n",
       "1  A video by YouTube channel &# ;Fomo Daily&# ; ...          YouTube  FAKE   \n",
       "2  The United Nations has designated November 19 ...   United Nations  FAKE   \n",
       "3  Over 1.57 lakh people reportedly have been aff...  Northeast Today  FAKE   \n",
       "4  BJP MP Varun Gandhi on Sunday escaped unhurt a...      India Today  FAKE   \n",
       "\n",
       "   title_length  text_length  \n",
       "0            54          334  \n",
       "1            47          418  \n",
       "2            45          374  \n",
       "3            46          384  \n",
       "4            41          368  "
      ]
     },
     "execution_count": 9,
     "metadata": {},
     "output_type": "execute_result"
    }
   ],
   "source": [
    "df['title_length'] = df['title'].apply(len)\n",
    "df['text_length'] = df['text'].apply(len)\n",
    "df.head()"
   ]
  },
  {
   "cell_type": "code",
   "execution_count": 10,
   "id": "14454bf8",
   "metadata": {},
   "outputs": [
    {
     "data": {
      "image/png": "[encoded data removed]",
      "text/plain": [
       "<Figure size 432x288 with 1 Axes>"
      ]
     },
     "metadata": {
      "needs_background": "light"
     },
     "output_type": "display_data"
    }
   ],
   "source": [
    "fig, ax = plt.subplots(figsize=(6,4))\n",
    "sns.histplot(x = df[\"title_length\"], hue = df[\"label\"], kde=True, bins=20);\n"
   ]
  },
  {
   "cell_type": "code",
   "execution_count": 20,
   "id": "6537e212",
   "metadata": {},
   "outputs": [
    {
     "data": {
      "text/plain": [
       "22820    Maria Sharapova won her first Grand Slam at th...\n",
       "26150    Hyderabad opener Tanmay Agarwal was taken to h...\n",
       "22425      Gurgaon docs on vvip duty hospitals feel heat  \n",
       "41027    The Centre for Science and Environment (CSE) h...\n",
       "36057    A church near Mosul was reopened after being f...\n",
       "Name: text, dtype: object"
      ]
     },
     "execution_count": 20,
     "metadata": {},
     "output_type": "execute_result"
    }
   ],
   "source": [
    "from sklearn.model_selection import train_test_split\n",
    "\n",
    "x_train, x_test, y_train, y_test = train_test_split(df[\"text\"], labels, test_size = 0.2, random_state = 20)\n",
    "\n",
    "x_train.head()"
   ]
  },
  {
   "cell_type": "code",
   "execution_count": 21,
   "id": "e7573fd1",
   "metadata": {},
   "outputs": [
    {
     "data": {
      "text/plain": [
       "49326    As per reports, the Central Reserve Police For...\n",
       "41533    Mumbai allow minor rape survivors to abort aft...\n",
       "468      Entertainment malayalam movies news anson to d...\n",
       "3047     Sports cricket ipl top stories dd vs rcb in ba...\n",
       "44885    Following umpire Kumar Dharamsena&# ;s decisio...\n",
       "Name: text, dtype: object"
      ]
     },
     "execution_count": 21,
     "metadata": {},
     "output_type": "execute_result"
    }
   ],
   "source": [
    "x_test.head()"
   ]
  },
  {
   "cell_type": "code",
   "execution_count": 22,
   "id": "ebb042a6",
   "metadata": {},
   "outputs": [],
   "source": [
    "from sklearn.feature_extraction.text import TfidfVectorizer\n",
    "from sklearn.linear_model import PassiveAggressiveClassifier"
   ]
  },
  {
   "cell_type": "code",
   "execution_count": 34,
   "id": "89d2fc3f",
   "metadata": {},
   "outputs": [],
   "source": [
    "# initialise a Tfidvectorizer\n",
    "vector = TfidfVectorizer(stop_words='english', max_df=0.6)"
   ]
  },
  {
   "cell_type": "code",
   "execution_count": 35,
   "id": "2224ae4c",
   "metadata": {},
   "outputs": [],
   "source": [
    "# fit and transform\n",
    "tf_train = vector.fit_transform(x_train)\n",
    "tf_test = vector.transform(x_test)"
   ]
  },
  {
   "cell_type": "code",
   "execution_count": 36,
   "id": "94213c34",
   "metadata": {},
   "outputs": [
    {
     "data": {
      "text/plain": [
       "PassiveAggressiveClassifier(max_iter=50)"
      ]
     },
     "execution_count": 36,
     "metadata": {},
     "output_type": "execute_result"
    }
   ],
   "source": [
    "# initialise a PassiveAggressiveClassifier\n",
    "pac = PassiveAggressiveClassifier(max_iter=50)\n",
    "pac.fit(tf_train, y_train)"
   ]
  },
  {
   "cell_type": "code",
   "execution_count": 37,
   "id": "8c9f4189",
   "metadata": {},
   "outputs": [],
   "source": [
    "# prediction the test dataset\n",
    "from sklearn.metrics import accuracy_score, confusion_matrix\n",
    "y_pred = pac.predict(tf_test)\n"
   ]
  },
  {
   "cell_type": "code",
   "execution_count": 38,
   "id": "a9f926f1",
   "metadata": {},
   "outputs": [
    {
     "name": "stdout",
     "output_type": "stream",
     "text": [
      "0.99671956733753\n"
     ]
    }
   ],
   "source": [
    "score = accuracy_score(y_test, y_pred)\n",
    "print(score)\n"
   ]
  },
  {
   "cell_type": "code",
   "execution_count": 39,
   "id": "ffdc5309",
   "metadata": {},
   "outputs": [
    {
     "name": "stdout",
     "output_type": "stream",
     "text": [
      "99.67\n"
     ]
    }
   ],
   "source": [
    "res=round(score*100,2)\n",
    "print(res)"
   ]
  },
  {
   "cell_type": "code",
   "execution_count": 40,
   "id": "c548342a",
   "metadata": {},
   "outputs": [
    {
     "name": "stdout",
     "output_type": "stream",
     "text": [
      "Accuracy:  99.67\n"
     ]
    }
   ],
   "source": [
    "print(\"Accuracy: \",res)"
   ]
  },
  {
   "cell_type": "code",
   "execution_count": 41,
   "id": "c6e6c01f",
   "metadata": {},
   "outputs": [],
   "source": [
    "import pickle\n",
    "filename1 = 'model_accuracy.sav'\n",
    "pickle.dump(res, open(filename1, 'wb'))"
   ]
  },
  {
   "cell_type": "code",
   "execution_count": 42,
   "id": "b54c69a4",
   "metadata": {},
   "outputs": [
    {
     "data": {
      "image/png": "[encoded data removed]",
      "text/plain": [
       "<Figure size 432x288 with 2 Axes>"
      ]
     },
     "metadata": {
      "needs_background": "light"
     },
     "output_type": "display_data"
    }
   ],
   "source": [
    "# confusion metrics\n",
    "cm=confusion_matrix(y_test, y_pred, labels=['FAKE', 'REAL'])\n",
    "sns.heatmap(cm,annot=True)\n",
    "plt.show()\n",
    "c=plt.show()\n",
    "\n"
   ]
  },
  {
   "cell_type": "code",
   "execution_count": 43,
   "id": "76ac6b00",
   "metadata": {},
   "outputs": [],
   "source": [
    "# save model\n",
    "import pickle\n",
    "filename = 'model_finalized.pkl'\n",
    "pickle.dump(pac, open(filename, 'wb'))\n"
   ]
  },
  {
   "cell_type": "code",
   "execution_count": 44,
   "id": "9eeab52e",
   "metadata": {},
   "outputs": [],
   "source": [
    "# save vectorizer\n",
    "filename = 'vectorizerr.pkl'\n",
    "pickle.dump(vector, open(filename, 'wb'))"
   ]
  },
  {
   "cell_type": "code",
   "execution_count": null,
   "id": "380e11e6",
   "metadata": {},
   "outputs": [],
   "source": []
  }
 ],
 "metadata": {
  "kernelspec": {
   "display_name": "Python 3 (ipykernel)",
   "language": "python",
   "name": "python3"
  },
  "language_info": {
   "codemirror_mode": {
    "name": "ipython",
    "version": 3
   },
   "file_extension": ".py",
   "mimetype": "text/x-python",
   "name": "python",
   "nbconvert_exporter": "python",
   "pygments_lexer": "ipython3",
   "version": "3.9.7"
  }
 },
 "nbformat": 4,
 "nbformat_minor": 5
}
