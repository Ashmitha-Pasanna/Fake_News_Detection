{
 "cells": [
  {
   "cell_type": "markdown",
   "id": "4da05d9a",
   "metadata": {},
   "source": [
    "## Fake News Detection"
   ]
  },
  {
   "cell_type": "code",
   "execution_count": 2,
   "id": "c8c65619",
   "metadata": {},
   "outputs": [],
   "source": [
    "import pandas as pd\n",
    "import numpy as np\n",
    "import itertools\n",
    "import seaborn as sns\n",
    "import matplotlib.pyplot as plt\n",
    "import os\n"
   ]
  },
  {
   "cell_type": "code",
   "execution_count": null,
   "id": "c2080b11",
   "metadata": {},
   "outputs": [],
   "source": [
    "\n"
   ]
  },
  {
   "cell_type": "code",
   "execution_count": 3,
   "id": "bba61f32",
   "metadata": {},
   "outputs": [],
   "source": [
    "df = pd.read_csv(\"fake.csv\")"
   ]
  },
  {
   "cell_type": "code",
   "execution_count": 4,
   "id": "ea562738",
   "metadata": {},
   "outputs": [],
   "source": []
  },
  {
   "cell_type": "code",
   "execution_count": 5,
   "id": "eb0ccf03",
   "metadata": {},
   "outputs": [
    {
     "data": {
      "text/html": [
       "<div>\n",
       "<style scoped>\n",
       "    .dataframe tbody tr th:only-of-type {\n",
       "        vertical-align: middle;\n",
       "    }\n",
       "\n",
       "    .dataframe tbody tr th {\n",
       "        vertical-align: top;\n",
       "    }\n",
       "\n",
       "    .dataframe thead th {\n",
       "        text-align: right;\n",
       "    }\n",
       "</style>\n",
       "<table border=\"1\" class=\"dataframe\">\n",
       "  <thead>\n",
       "    <tr style=\"text-align: right;\">\n",
       "      <th></th>\n",
       "      <th>title</th>\n",
       "      <th>text</th>\n",
       "      <th>Sources</th>\n",
       "      <th>Date</th>\n",
       "      <th>label</th>\n",
       "    </tr>\n",
       "  </thead>\n",
       "  <tbody>\n",
       "    <tr>\n",
       "      <th>0</th>\n",
       "      <td>Bungalow with private island up for sale for ?...</td>\n",
       "      <td>A bungalow with a private island, located off ...</td>\n",
       "      <td>Bloomberg</td>\n",
       "      <td>15-02-2017</td>\n",
       "      <td>FAKE</td>\n",
       "    </tr>\n",
       "    <tr>\n",
       "      <th>1</th>\n",
       "      <td>Americans react to Bollywood song &amp;# ;Pinga&amp;# ;</td>\n",
       "      <td>A video by YouTube channel &amp;# ;Fomo Daily&amp;# ; ...</td>\n",
       "      <td>YouTube</td>\n",
       "      <td>02-08-2016</td>\n",
       "      <td>FAKE</td>\n",
       "    </tr>\n",
       "    <tr>\n",
       "      <th>2</th>\n",
       "      <td>World Toilet Day is celebrated on November 19</td>\n",
       "      <td>The United Nations has designated November 19 ...</td>\n",
       "      <td>United Nations</td>\n",
       "      <td>19-11-2016</td>\n",
       "      <td>FAKE</td>\n",
       "    </tr>\n",
       "    <tr>\n",
       "      <th>3</th>\n",
       "      <td>Over 1.57 lakh people affected by Assam floods</td>\n",
       "      <td>Over 1.57 lakh people reportedly have been aff...</td>\n",
       "      <td>Northeast Today</td>\n",
       "      <td>21-07-2016</td>\n",
       "      <td>FAKE</td>\n",
       "    </tr>\n",
       "    <tr>\n",
       "      <th>4</th>\n",
       "      <td>Varun Gandhi unhurt after stage collapses</td>\n",
       "      <td>BJP MP Varun Gandhi on Sunday escaped unhurt a...</td>\n",
       "      <td>India Today</td>\n",
       "      <td>13-03-2016</td>\n",
       "      <td>FAKE</td>\n",
       "    </tr>\n",
       "  </tbody>\n",
       "</table>\n",
       "</div>"
      ],
      "text/plain": [
       "                                               title  \\\n",
       "0  Bungalow with private island up for sale for ?...   \n",
       "1    Americans react to Bollywood song &# ;Pinga&# ;   \n",
       "2      World Toilet Day is celebrated on November 19   \n",
       "3     Over 1.57 lakh people affected by Assam floods   \n",
       "4          Varun Gandhi unhurt after stage collapses   \n",
       "\n",
       "                                                text          Sources  \\\n",
       "0  A bungalow with a private island, located off ...        Bloomberg   \n",
       "1  A video by YouTube channel &# ;Fomo Daily&# ; ...          YouTube   \n",
       "2  The United Nations has designated November 19 ...   United Nations   \n",
       "3  Over 1.57 lakh people reportedly have been aff...  Northeast Today   \n",
       "4  BJP MP Varun Gandhi on Sunday escaped unhurt a...      India Today   \n",
       "\n",
       "         Date label  \n",
       "0  15-02-2017  FAKE  \n",
       "1  02-08-2016  FAKE  \n",
       "2  19-11-2016  FAKE  \n",
       "3  21-07-2016  FAKE  \n",
       "4  13-03-2016  FAKE  "
      ]
     },
     "execution_count": 5,
     "metadata": {},
     "output_type": "execute_result"
    }
   ],
   "source": [
    "df.head()"
   ]
  },
  {
   "cell_type": "code",
   "execution_count": 6,
   "id": "5aab448c",
   "metadata": {},
   "outputs": [
    {
     "data": {
      "text/plain": [
       "(56414, 5)"
      ]
     },
     "execution_count": 6,
     "metadata": {},
     "output_type": "execute_result"
    }
   ],
   "source": [
    "df.shape"
   ]
  },
  {
   "cell_type": "code",
   "execution_count": 7,
   "id": "9921c042",
   "metadata": {},
   "outputs": [
    {
     "data": {
      "text/plain": [
       "title      0\n",
       "text       0\n",
       "Sources    0\n",
       "Date       0\n",
       "label      0\n",
       "dtype: int64"
      ]
     },
     "execution_count": 7,
     "metadata": {},
     "output_type": "execute_result"
    }
   ],
   "source": [
    "df.isnull().sum()"
   ]
  },
  {
   "cell_type": "code",
   "execution_count": 8,
   "id": "a8107bfc",
   "metadata": {},
   "outputs": [],
   "source": [
    "labels = df.label"
   ]
  },
  {
   "cell_type": "code",
   "execution_count": 9,
   "id": "d3f6bc52",
   "metadata": {},
   "outputs": [
    {
     "data": {
      "text/plain": [
       "0    FAKE\n",
       "1    FAKE\n",
       "2    FAKE\n",
       "3    FAKE\n",
       "4    FAKE\n",
       "Name: label, dtype: object"
      ]
     },
     "execution_count": 9,
     "metadata": {},
     "output_type": "execute_result"
    }
   ],
   "source": [
    "labels.head()"
   ]
  },
  {
   "cell_type": "code",
   "execution_count": 10,
   "id": "6da4794c",
   "metadata": {},
   "outputs": [
    {
     "data": {
      "image/png": "[encoded data removed]",
      "text/plain": [
       "<Figure size 432x288 with 1 Axes>"
      ]
     },
     "metadata": {},
     "output_type": "display_data"
    }
   ],
   "source": [
    "df.groupby('label').size().plot(kind='pie', autopct='%.2f',label='Fake vs Real')\n",
    "plt.show()"
   ]
  },
  {
   "cell_type": "code",
   "execution_count": null,
   "id": "90cb22c6",
   "metadata": {},
   "outputs": [],
   "source": []
  },
  {
   "cell_type": "code",
   "execution_count": null,
   "id": "92d0035d",
   "metadata": {},
   "outputs": [],
   "source": []
  },
  {
   "cell_type": "code",
   "execution_count": 11,
   "id": "819f5427",
   "metadata": {},
   "outputs": [
    {
     "data": {
      "text/html": [
       "<div>\n",
       "<style scoped>\n",
       "    .dataframe tbody tr th:only-of-type {\n",
       "        vertical-align: middle;\n",
       "    }\n",
       "\n",
       "    .dataframe tbody tr th {\n",
       "        vertical-align: top;\n",
       "    }\n",
       "\n",
       "    .dataframe thead th {\n",
       "        text-align: right;\n",
       "    }\n",
       "</style>\n",
       "<table border=\"1\" class=\"dataframe\">\n",
       "  <thead>\n",
       "    <tr style=\"text-align: right;\">\n",
       "      <th></th>\n",
       "      <th>title</th>\n",
       "      <th>text</th>\n",
       "      <th>Sources</th>\n",
       "      <th>Date</th>\n",
       "      <th>label</th>\n",
       "      <th>title_length</th>\n",
       "      <th>text_length</th>\n",
       "    </tr>\n",
       "  </thead>\n",
       "  <tbody>\n",
       "    <tr>\n",
       "      <th>0</th>\n",
       "      <td>Bungalow with private island up for sale for ?...</td>\n",
       "      <td>A bungalow with a private island, located off ...</td>\n",
       "      <td>Bloomberg</td>\n",
       "      <td>15-02-2017</td>\n",
       "      <td>FAKE</td>\n",
       "      <td>54</td>\n",
       "      <td>334</td>\n",
       "    </tr>\n",
       "    <tr>\n",
       "      <th>1</th>\n",
       "      <td>Americans react to Bollywood song &amp;# ;Pinga&amp;# ;</td>\n",
       "      <td>A video by YouTube channel &amp;# ;Fomo Daily&amp;# ; ...</td>\n",
       "      <td>YouTube</td>\n",
       "      <td>02-08-2016</td>\n",
       "      <td>FAKE</td>\n",
       "      <td>47</td>\n",
       "      <td>418</td>\n",
       "    </tr>\n",
       "    <tr>\n",
       "      <th>2</th>\n",
       "      <td>World Toilet Day is celebrated on November 19</td>\n",
       "      <td>The United Nations has designated November 19 ...</td>\n",
       "      <td>United Nations</td>\n",
       "      <td>19-11-2016</td>\n",
       "      <td>FAKE</td>\n",
       "      <td>45</td>\n",
       "      <td>374</td>\n",
       "    </tr>\n",
       "    <tr>\n",
       "      <th>3</th>\n",
       "      <td>Over 1.57 lakh people affected by Assam floods</td>\n",
       "      <td>Over 1.57 lakh people reportedly have been aff...</td>\n",
       "      <td>Northeast Today</td>\n",
       "      <td>21-07-2016</td>\n",
       "      <td>FAKE</td>\n",
       "      <td>46</td>\n",
       "      <td>384</td>\n",
       "    </tr>\n",
       "    <tr>\n",
       "      <th>4</th>\n",
       "      <td>Varun Gandhi unhurt after stage collapses</td>\n",
       "      <td>BJP MP Varun Gandhi on Sunday escaped unhurt a...</td>\n",
       "      <td>India Today</td>\n",
       "      <td>13-03-2016</td>\n",
       "      <td>FAKE</td>\n",
       "      <td>41</td>\n",
       "      <td>368</td>\n",
       "    </tr>\n",
       "  </tbody>\n",
       "</table>\n",
       "</div>"
      ],
      "text/plain": [
       "                                               title  \\\n",
       "0  Bungalow with private island up for sale for ?...   \n",
       "1    Americans react to Bollywood song &# ;Pinga&# ;   \n",
       "2      World Toilet Day is celebrated on November 19   \n",
       "3     Over 1.57 lakh people affected by Assam floods   \n",
       "4          Varun Gandhi unhurt after stage collapses   \n",
       "\n",
       "                                                text          Sources  \\\n",
       "0  A bungalow with a private island, located off ...        Bloomberg   \n",
       "1  A video by YouTube channel &# ;Fomo Daily&# ; ...          YouTube   \n",
       "2  The United Nations has designated November 19 ...   United Nations   \n",
       "3  Over 1.57 lakh people reportedly have been aff...  Northeast Today   \n",
       "4  BJP MP Varun Gandhi on Sunday escaped unhurt a...      India Today   \n",
       "\n",
       "         Date label  title_length  text_length  \n",
       "0  15-02-2017  FAKE            54          334  \n",
       "1  02-08-2016  FAKE            47          418  \n",
       "2  19-11-2016  FAKE            45          374  \n",
       "3  21-07-2016  FAKE            46          384  \n",
       "4  13-03-2016  FAKE            41          368  "
      ]
     },
     "execution_count": 11,
     "metadata": {},
     "output_type": "execute_result"
    }
   ],
   "source": [
    "df['title_length'] = df['title'].apply(len)\n",
    "df['text_length'] = df['text'].apply(len)\n",
    "df.head()"
   ]
  },
  {
   "cell_type": "code",
   "execution_count": 12,
   "id": "1a193b4e",
   "metadata": {},
   "outputs": [
    {
     "data": {
      "image/png": "[encoded data removed]",
      "text/plain": [
       "<Figure size 432x288 with 1 Axes>"
      ]
     },
     "metadata": {
      "needs_background": "light"
     },
     "output_type": "display_data"
    }
   ],
   "source": [
    "fig, ax = plt.subplots(figsize=(6,4))\n",
    "sns.histplot(x = df[\"title_length\"], hue = df[\"label\"], kde=True, bins=20);\n"
   ]
  },
  {
   "cell_type": "code",
   "execution_count": 13,
   "id": "e30acb39",
   "metadata": {},
   "outputs": [],
   "source": [
    "from sklearn.model_selection import train_test_split"
   ]
  },
  {
   "cell_type": "code",
   "execution_count": 14,
   "id": "8ae64cea",
   "metadata": {},
   "outputs": [],
   "source": [
    "x_train, x_test, y_train, y_test = train_test_split(df[\"title\"], labels, test_size = 0.2, random_state = 20)"
   ]
  },
  {
   "cell_type": "code",
   "execution_count": 15,
   "id": "d7fee436",
   "metadata": {},
   "outputs": [
    {
     "data": {
      "text/plain": [
       "14020    Nagpur children should be regularly exposed to...\n",
       "30009     Vadodara ndrf joins search for missing student  \n",
       "43441       Kaabil was a beautiful journey: Hrithik Roshan\n",
       "14293    Goa behind the wheel computerised driving test...\n",
       "1522     Jaipur yuvak prerak fellowship of rajasthan go...\n",
       "Name: title, dtype: object"
      ]
     },
     "execution_count": 15,
     "metadata": {},
     "output_type": "execute_result"
    }
   ],
   "source": [
    "x_train.head()"
   ]
  },
  {
   "cell_type": "code",
   "execution_count": 16,
   "id": "c731d247",
   "metadata": {},
   "outputs": [],
   "source": [
    "from sklearn.feature_extraction.text import TfidfVectorizer\n",
    "from sklearn.linear_model import PassiveAggressiveClassifier"
   ]
  },
  {
   "cell_type": "code",
   "execution_count": 17,
   "id": "9ecc3123",
   "metadata": {},
   "outputs": [],
   "source": [
    "# initialise a Tfidvectorizer\n",
    "vector = TfidfVectorizer(stop_words='english', max_df=0.7)"
   ]
  },
  {
   "cell_type": "code",
   "execution_count": 18,
   "id": "ab7def54",
   "metadata": {},
   "outputs": [],
   "source": [
    "# fit and transform\n",
    "tf_train = vector.fit_transform(x_train)\n",
    "tf_test = vector.transform(x_test)"
   ]
  },
  {
   "cell_type": "code",
   "execution_count": 19,
   "id": "d9e371a8",
   "metadata": {},
   "outputs": [
    {
     "data": {
      "text/plain": [
       "PassiveAggressiveClassifier(max_iter=50)"
      ]
     },
     "execution_count": 19,
     "metadata": {},
     "output_type": "execute_result"
    }
   ],
   "source": [
    "# initialise a PassiveAggressiveClassifier\n",
    "pac = PassiveAggressiveClassifier(max_iter=50)\n",
    "pac.fit(tf_train, y_train)"
   ]
  },
  {
   "cell_type": "code",
   "execution_count": 20,
   "id": "c65f90bf",
   "metadata": {},
   "outputs": [
    {
     "data": {
      "text/plain": [
       "<45131x31419 sparse matrix of type '<class 'numpy.float64'>'\n",
       "\twith 310352 stored elements in Compressed Sparse Row format>"
      ]
     },
     "execution_count": 20,
     "metadata": {},
     "output_type": "execute_result"
    }
   ],
   "source": [
    "tf_train"
   ]
  },
  {
   "cell_type": "code",
   "execution_count": 21,
   "id": "313da13d",
   "metadata": {},
   "outputs": [],
   "source": [
    "# prediction the test dataset\n",
    "from sklearn.metrics import accuracy_score, confusion_matrix\n",
    "y_pred = pac.predict(tf_test)\n",
    "\n"
   ]
  },
  {
   "cell_type": "code",
   "execution_count": 22,
   "id": "b517b593",
   "metadata": {},
   "outputs": [],
   "source": [
    "#j=0\n",
    "#for i in y_pred:\n",
    "    #print(i)\n",
    "    #j=j+1\n",
    "#print(j)"
   ]
  },
  {
   "cell_type": "code",
   "execution_count": 23,
   "id": "617635cc",
   "metadata": {},
   "outputs": [
    {
     "data": {
      "text/plain": [
       "14020    Nagpur children should be regularly exposed to...\n",
       "30009     Vadodara ndrf joins search for missing student  \n",
       "43441       Kaabil was a beautiful journey: Hrithik Roshan\n",
       "14293    Goa behind the wheel computerised driving test...\n",
       "1522     Jaipur yuvak prerak fellowship of rajasthan go...\n",
       "                               ...                        \n",
       "23452    &# ;Patel would have made Kashmir a part of In...\n",
       "23775     RSS affiliate to launch party for 2017 Goa polls\n",
       "37135    Tv news hindi vahbiz dorabjee vivian dsena is ...\n",
       "27098    Three monkeys stolen from wildlife park in Aus...\n",
       "48483    NASCAR driver pulled over for speeding on his ...\n",
       "Name: title, Length: 45131, dtype: object"
      ]
     },
     "execution_count": 23,
     "metadata": {},
     "output_type": "execute_result"
    }
   ],
   "source": [
    "x_train"
   ]
  },
  {
   "cell_type": "code",
   "execution_count": 24,
   "id": "f18101f5",
   "metadata": {},
   "outputs": [
    {
     "data": {
      "text/plain": [
       "8868     Chennai dhinakaran family worth only rs 10 77 ...\n",
       "38849         Civil rights activist Irom Sharmila turns 44\n",
       "51814                 Maria Sharapova to miss Rio Olympics\n",
       "10936    London&# ;s &# ;narrowest home&# ; on sale for...\n",
       "6343                  Mirza-Hingis win St Petersburg title\n",
       "                               ...                        \n",
       "52425    Titan to foray into women&# ;s ethnic wear seg...\n",
       "25629    Elections assembly elections goa news fir agai...\n",
       "11209    Entertainment events lucknow a rainy day for t...\n",
       "16445      Lucknow funds for up touch rs 1 21 lakh crore  \n",
       "19557    Berlin truck attacker had 14 identities in Ger...\n",
       "Name: title, Length: 11283, dtype: object"
      ]
     },
     "execution_count": 24,
     "metadata": {},
     "output_type": "execute_result"
    }
   ],
   "source": [
    "x_test"
   ]
  },
  {
   "cell_type": "code",
   "execution_count": 25,
   "id": "1aaecf16",
   "metadata": {},
   "outputs": [
    {
     "name": "stdout",
     "output_type": "stream",
     "text": [
      "0.9393778250465302\n"
     ]
    }
   ],
   "source": [
    "score = accuracy_score(y_test, y_pred)\n",
    "print(score)\n"
   ]
  },
  {
   "cell_type": "code",
   "execution_count": 26,
   "id": "59496c09",
   "metadata": {},
   "outputs": [
    {
     "name": "stdout",
     "output_type": "stream",
     "text": [
      "93.94\n"
     ]
    }
   ],
   "source": [
    "res=round(score*100,2)\n",
    "print(res)"
   ]
  },
  {
   "cell_type": "code",
   "execution_count": 27,
   "id": "01913e99",
   "metadata": {},
   "outputs": [
    {
     "name": "stdout",
     "output_type": "stream",
     "text": [
      "Accuracy:  93.94\n"
     ]
    }
   ],
   "source": [
    "print(\"Accuracy: \",res)"
   ]
  },
  {
   "cell_type": "code",
   "execution_count": 28,
   "id": "5eab250c",
   "metadata": {},
   "outputs": [],
   "source": [
    "import pickle\n",
    "filename1 = 'accuracy_model.sav'\n",
    "pickle.dump(res, open(filename1, 'wb'))"
   ]
  },
  {
   "cell_type": "code",
   "execution_count": 29,
   "id": "effdf53c",
   "metadata": {},
   "outputs": [
    {
     "data": {
      "image/png": "[encoded data removed]",
      "text/plain": [
       "<Figure size 432x288 with 2 Axes>"
      ]
     },
     "metadata": {
      "needs_background": "light"
     },
     "output_type": "display_data"
    }
   ],
   "source": [
    "# confusion metrics\n",
    "cm=confusion_matrix(y_test, y_pred, labels=['FAKE', 'REAL'])\n",
    "sns.heatmap(cm,annot=True)\n",
    "plt.show()\n"
   ]
  },
  {
   "cell_type": "code",
   "execution_count": 30,
   "id": "d113323f",
   "metadata": {},
   "outputs": [],
   "source": [
    "# save model\n",
    "import pickle\n",
    "filename = 'finalized_model.pkl'\n",
    "pickle.dump(pac, open(filename, 'wb'))\n"
   ]
  },
  {
   "cell_type": "code",
   "execution_count": 31,
   "id": "25f6c11e",
   "metadata": {},
   "outputs": [],
   "source": [
    "# save vectorizer\n",
    "filename = 'vectorizer.pkl'\n",
    "pickle.dump(vector, open(filename, 'wb'))"
   ]
  },
  {
   "cell_type": "code",
   "execution_count": null,
   "id": "cddbc686",
   "metadata": {},
   "outputs": [],
   "source": []
  },
  {
   "cell_type": "code",
   "execution_count": null,
   "id": "bf1cb693",
   "metadata": {},
   "outputs": [],
   "source": []
  }
 ],
 "metadata": {
  "kernelspec": {
   "display_name": "Python 3 (ipykernel)",
   "language": "python",
   "name": "python3"
  },
  "language_info": {
   "codemirror_mode": {
    "name": "ipython",
    "version": 3
   },
   "file_extension": ".py",
   "mimetype": "text/x-python",
   "name": "python",
   "nbconvert_exporter": "python",
   "pygments_lexer": "ipython3",
   "version": "3.9.7"
  }
 },
 "nbformat": 4,
 "nbformat_minor": 5
}
